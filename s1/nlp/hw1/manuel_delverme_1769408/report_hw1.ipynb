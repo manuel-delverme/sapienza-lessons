{
 "cells": [
  {
   "cell_type": "code",
   "execution_count": null,
   "metadata": {
    "collapsed": false,
    "deletable": true,
    "editable": true
   },
   "outputs": [],
   "source": [
    "import eli5\n",
    "%run src/train.py"
   ]
  },
  {
   "cell_type": "code",
   "execution_count": null,
   "metadata": {
    "collapsed": false,
    "deletable": true,
    "editable": true
   },
   "outputs": [],
   "source": [
    "eli5.show_weights(model, top=100)"
   ]
  },
  {
   "cell_type": "code",
   "execution_count": null,
   "metadata": {
    "collapsed": false,
    "deletable": true,
    "editable": true,
    "scrolled": false
   },
   "outputs": [],
   "source": [
    "eli5.show_weights(model, top=30, feature_re='^_', horizontal_layout=False, targets=['B','E','M','S'])"
   ]
  },
  {
   "cell_type": "code",
   "execution_count": null,
   "metadata": {
    "collapsed": false,
    "deletable": true,
    "editable": true
   },
   "outputs": [],
   "source": [
    "X,y = load_dataset([\"task1_data/test.eng.txt\"], delta=4)"
   ]
  },
  {
   "cell_type": "code",
   "execution_count": 11,
   "metadata": {
    "collapsed": false,
    "deletable": true,
    "editable": true
   },
   "outputs": [
    {
     "data": {
      "text/html": [
       "\n",
       "    <style>\n",
       "    table.eli5-weights tr:hover {\n",
       "        filter: brightness(85%);\n",
       "    }\n",
       "</style>\n",
       "\n",
       "\n",
       "\n",
       "    \n",
       "\n",
       "    \n",
       "\n",
       "    \n",
       "\n",
       "    \n",
       "\n",
       "    \n",
       "\n",
       "    \n",
       "\n",
       "\n",
       "    \n",
       "\n",
       "    \n",
       "\n",
       "    \n",
       "\n",
       "    \n",
       "\n",
       "    \n",
       "\n",
       "    \n",
       "\n",
       "\n",
       "    \n",
       "\n",
       "    \n",
       "\n",
       "    \n",
       "\n",
       "    \n",
       "\n",
       "    \n",
       "\n",
       "    \n",
       "\n",
       "\n",
       "    \n",
       "\n",
       "    \n",
       "\n",
       "    \n",
       "\n",
       "    \n",
       "\n",
       "    \n",
       "\n",
       "    \n",
       "\n",
       "\n",
       "\n",
       "\n",
       "    <div style=\"background-color: #fdd; padding: 0.5em;\">\n",
       "        Error: estimator CRF(algorithm='ap', all_possible_states=None, all_possible_transitions=True,\n",
       "  averaging=None, c=None, c1=None, c2=None, calibration_candidates=None,\n",
       "  calibration_eta=None, calibration_max_trials=None, calibration_rate=None,\n",
       "  calibration_samples=None, delta=None, epsilon=0.0001,\n",
       "  error_sensitive=None, gamma=None, keep_tempfiles=None, linesearch=None,\n",
       "  max_iterations=100, max_linesearch=None, min_freq=None,\n",
       "  model_filename=None, num_memories=None, pa_type=None, period=None,\n",
       "  trainer_cls=None, variance=None, verbose=False) is not supported\n",
       "    </div>\n"
      ],
      "text/plain": [
       "Explanation(estimator=\"CRF(algorithm='ap', all_possible_states=None, all_possible_transitions=True,\\n  averaging=None, c=None, c1=None, c2=None, calibration_candidates=None,\\n  calibration_eta=None, calibration_max_trials=None, calibration_rate=None,\\n  calibration_samples=None, delta=None, epsilon=0.0001,\\n  error_sensitive=None, gamma=None, keep_tempfiles=None, linesearch=None,\\n  max_iterations=100, max_linesearch=None, min_freq=None,\\n  model_filename=None, num_memories=None, pa_type=None, period=None,\\n  trainer_cls=None, variance=None, verbose=False)\", description=None, error=\"estimator CRF(algorithm='ap', all_possible_states=None, all_possible_transitions=True,\\n  averaging=None, c=None, c1=None, c2=None, calibration_candidates=None,\\n  calibration_eta=None, calibration_max_trials=None, calibration_rate=None,\\n  calibration_samples=None, delta=None, epsilon=0.0001,\\n  error_sensitive=None, gamma=None, keep_tempfiles=None, linesearch=None,\\n  max_iterations=100, max_linesearch=None, min_freq=None,\\n  model_filename=None, num_memories=None, pa_type=None, period=None,\\n  trainer_cls=None, variance=None, verbose=False) is not supported\", method=None, is_regression=False, targets=None, feature_importances=None, decision_tree=None, highlight_spaces=None, transition_features=None)"
      ]
     },
     "execution_count": 11,
     "metadata": {},
     "output_type": "execute_result"
    }
   ],
   "source": [
    "eli5.explain_prediction(model, X)"
   ]
  },
  {
   "cell_type": "code",
   "execution_count": null,
   "metadata": {
    "collapsed": true,
    "deletable": true,
    "editable": true
   },
   "outputs": [],
   "source": []
  }
 ],
 "metadata": {
  "kernelspec": {
   "display_name": "Python 3",
   "language": "python",
   "name": "python3"
  },
  "language_info": {
   "codemirror_mode": {
    "name": "ipython",
    "version": 3
   },
   "file_extension": ".py",
   "mimetype": "text/x-python",
   "name": "python",
   "nbconvert_exporter": "python",
   "pygments_lexer": "ipython3",
   "version": "3.4.3"
  }
 },
 "nbformat": 4,
 "nbformat_minor": 2
}
