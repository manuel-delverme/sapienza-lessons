{
 "cells": [
  {
   "cell_type": "code",
   "execution_count": 59,
   "metadata": {
    "collapsed": false
   },
   "outputs": [
    {
     "name": "stdout",
     "output_type": "stream",
     "text": [
      "w (5, 5) [[ 0.54842384  0.56282506  0.70586371  0.68381839  0.55682882]\n",
      " [ 0.43224348  0.00208626  0.4547223   0.58949796  0.54524531]\n",
      " [ 0.61198126  0.28899437  0.84317888  0.42983833  0.34261073]\n",
      " [ 0.03552983  0.94391907  0.30456204  0.33470781  0.99325834]\n",
      " [ 0.21100251  0.38372532  0.8690576   0.07291716  0.90069032]]\n",
      "x (1, 5) [[1 2 3 4 5]]\n",
      "d (1, 5) [[100 150 160 160 200]]\n"
     ]
    }
   ],
   "source": [
    "import numpy as np\n",
    "x = np.array([1,2,3,4,5]).reshape(1, 5) #square meters\n",
    "n_datapoints = x.shape[1]\n",
    "d = np.array([100,150,160,160,200]).reshape(1, 5)\n",
    "w = np.random.sample((n_datapoints, n_datapoints))\n",
    "mu = 0.1\n",
    "print \"w\", w.shape, w\n",
    "print \"x\", x.shape, x\n",
    "print \"d\", d.shape, d"
   ]
  },
  {
   "cell_type": "markdown",
   "metadata": {},
   "source": [
    "y = f(x,w) = w'x\n",
    "\n",
    "error:\n",
    "\n",
    "e = d - w'x\n",
    "\n",
    "d = datapoint"
   ]
  },
  {
   "cell_type": "code",
   "execution_count": 60,
   "metadata": {
    "collapsed": false
   },
   "outputs": [
    {
     "data": {
      "text/plain": [
       "array([[  5.48423840e-01,   8.64486953e-01,   1.83594377e+00,\n",
       "          1.42119327e-01,   1.05501257e+00],\n",
       "       [  5.62825057e-01,   4.17251460e-03,   8.66983124e-01,\n",
       "          3.77567627e+00,   1.91862661e+00],\n",
       "       [  7.05863711e-01,   9.09444594e-01,   2.52953664e+00,\n",
       "          1.21824815e+00,   4.34528800e+00],\n",
       "       [  6.83818389e-01,   1.17899592e+00,   1.28951498e+00,\n",
       "          1.33883122e+00,   3.64585817e-01],\n",
       "       [  5.56828821e-01,   1.09049062e+00,   1.02783218e+00,\n",
       "          3.97303337e+00,   4.50345159e+00]])"
      ]
     },
     "execution_count": 60,
     "metadata": {},
     "output_type": "execute_result"
    }
   ],
   "source": [
    "y = w.transpose() * x\n",
    "y"
   ]
  },
  {
   "cell_type": "code",
   "execution_count": 48,
   "metadata": {
    "collapsed": false
   },
   "outputs": [
    {
     "data": {
      "text/plain": [
       "array([[  99.27256215,  148.5451243 ,  157.81768645,  157.09024861,\n",
       "         196.36281076]])"
      ]
     },
     "execution_count": 48,
     "metadata": {},
     "output_type": "execute_result"
    }
   ],
   "source": [
    "e = d - y\n",
    "e"
   ]
  },
  {
   "cell_type": "code",
   "execution_count": 49,
   "metadata": {
    "collapsed": false
   },
   "outputs": [
    {
     "data": {
      "text/plain": [
       "array([[ 10.65469406,  15.58195028,  16.50920649,  16.43646271,\n",
       "         20.36371892]])"
      ]
     },
     "execution_count": 49,
     "metadata": {},
     "output_type": "execute_result"
    }
   ],
   "source": [
    "w = w + mu * e\n",
    "w"
   ]
  },
  {
   "cell_type": "code",
   "execution_count": 50,
   "metadata": {
    "collapsed": false
   },
   "outputs": [
    {
     "data": {
      "text/plain": [
       "array([[  10.65469406,   21.30938813,   31.96408219,   42.61877625,\n",
       "          53.27347032],\n",
       "       [  15.58195028,   31.16390056,   46.74585084,   62.32780112,\n",
       "          77.90975139],\n",
       "       [  16.50920649,   33.01841299,   49.52761948,   66.03682598,\n",
       "          82.54603247],\n",
       "       [  16.43646271,   32.87292542,   49.30938813,   65.74585084,\n",
       "          82.18231355],\n",
       "       [  20.36371892,   40.72743785,   61.09115677,   81.4548757 ,\n",
       "         101.81859462]])"
      ]
     },
     "execution_count": 50,
     "metadata": {},
     "output_type": "execute_result"
    }
   ],
   "source": [
    "y = w.transpose() * x\n",
    "y"
   ]
  },
  {
   "cell_type": "code",
   "execution_count": null,
   "metadata": {
    "collapsed": true
   },
   "outputs": [],
   "source": []
  }
 ],
 "metadata": {
  "kernelspec": {
   "display_name": "Python 2",
   "language": "python",
   "name": "python2"
  },
  "language_info": {
   "codemirror_mode": {
    "name": "ipython",
    "version": 2
   },
   "file_extension": ".py",
   "mimetype": "text/x-python",
   "name": "python",
   "nbconvert_exporter": "python",
   "pygments_lexer": "ipython2",
   "version": "2.7.9"
  }
 },
 "nbformat": 4,
 "nbformat_minor": 0
}
